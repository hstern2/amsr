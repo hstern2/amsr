{
 "cells": [
  {
   "cell_type": "code",
   "execution_count": null,
   "id": "5984a895",
   "metadata": {},
   "outputs": [],
   "source": [
    "from amsr import ToMol, FromMol\n",
    "from rdkit.Chem import MolFromSmiles\n",
    "from rdkit.Chem.Draw import IPythonConsole  # Needed to show molecules"
   ]
  },
  {
   "cell_type": "code",
   "execution_count": null,
   "id": "c0c258ef",
   "metadata": {
    "scrolled": true
   },
   "outputs": [],
   "source": [
    "# hydrogens are implicit, like SMILES\n",
    "ToMol(\"C\")"
   ]
  },
  {
   "cell_type": "code",
   "execution_count": null,
   "id": "b80be660",
   "metadata": {},
   "outputs": [],
   "source": [
    "ToMol(\"O\")"
   ]
  },
  {
   "cell_type": "code",
   "execution_count": null,
   "id": "dda555be",
   "metadata": {},
   "outputs": [],
   "source": [
    "# upper-case symbols represent saturated atoms\n",
    "ToMol(\"NCCCCO\")"
   ]
  },
  {
   "cell_type": "code",
   "execution_count": null,
   "id": "80e600c8",
   "metadata": {},
   "outputs": [],
   "source": [
    "# new atoms are added to the most recently-added atom that can still make bonds\n",
    "ToMol(\"CCFC\")"
   ]
  },
  {
   "cell_type": "code",
   "execution_count": null,
   "id": "af1184a1",
   "metadata": {},
   "outputs": [],
   "source": [
    "# a dot means \"saturate\" or \"cap\" the most recently-added (unsaturated) atom\n",
    "ToMol(\"CC.C.C.C\")"
   ]
  },
  {
   "cell_type": "code",
   "execution_count": null,
   "id": "f16eb31d",
   "metadata": {},
   "outputs": [],
   "source": [
    "# 3,4,5,6 means \"make a ring of that size\"\n",
    "ToMol(\"CCCCC5\")"
   ]
  },
  {
   "cell_type": "code",
   "execution_count": null,
   "id": "e488e66a",
   "metadata": {},
   "outputs": [],
   "source": [
    "ToMol(\"CCCCCC6CCC5\")"
   ]
  },
  {
   "cell_type": "code",
   "execution_count": null,
   "id": "9bd16bdd",
   "metadata": {},
   "outputs": [],
   "source": [
    "# lowercase symbols mean \"unsaturated\"\n",
    "ToMol(\"CcoC\")"
   ]
  },
  {
   "cell_type": "code",
   "execution_count": null,
   "id": "629c1f11",
   "metadata": {},
   "outputs": [],
   "source": [
    "ToMol(\"cccccc6\")"
   ]
  },
  {
   "cell_type": "code",
   "execution_count": null,
   "id": "da78d0c1",
   "metadata": {},
   "outputs": [],
   "source": [
    "ToMol(\"cncccc6ccnc6\")"
   ]
  },
  {
   "cell_type": "code",
   "execution_count": null,
   "id": "91118a67",
   "metadata": {},
   "outputs": [],
   "source": [
    "# big rings denoted by a sum of numbers 3,4,5,6 (unless separated by whitespace)\n",
    "ToMol(\"CCCCCCCCCCC65\")"
   ]
  },
  {
   "cell_type": "code",
   "execution_count": null,
   "id": "0bddfa6c",
   "metadata": {},
   "outputs": [],
   "source": [
    "ToMol(\"CCCCCCCCCCC6 5\")"
   ]
  },
  {
   "cell_type": "code",
   "execution_count": null,
   "id": "dad4770f",
   "metadata": {},
   "outputs": [],
   "source": [
    "# dots after ring numbers mean \"make next available ring\"\n",
    "ToMol(\"NCCCCCCO6\")"
   ]
  },
  {
   "cell_type": "code",
   "execution_count": null,
   "id": "5c05dbc1",
   "metadata": {},
   "outputs": [],
   "source": [
    "ToMol(\"NCCCCCCO6.\")"
   ]
  },
  {
   "cell_type": "code",
   "execution_count": null,
   "id": "123695b0",
   "metadata": {},
   "outputs": [],
   "source": [
    "ToMol(\"NCCCCCCO6..\")"
   ]
  },
  {
   "cell_type": "code",
   "execution_count": null,
   "id": "ae8126c7",
   "metadata": {},
   "outputs": [],
   "source": [
    "# tetrahedral stereochemistry is indicated by (,) for counterclockwise and clockwise\n",
    "ToMol(\"C(F[Cl]I\")"
   ]
  },
  {
   "cell_type": "code",
   "execution_count": null,
   "id": "d1daa07e",
   "metadata": {},
   "outputs": [],
   "source": [
    "ToMol(\"C)F[Cl]I\")"
   ]
  },
  {
   "cell_type": "code",
   "execution_count": null,
   "id": "b5884778",
   "metadata": {},
   "outputs": [],
   "source": [
    "# cis/trans by ^ or _\n",
    "ToMol(\"Fc_cF\")"
   ]
  },
  {
   "cell_type": "code",
   "execution_count": null,
   "id": "4c0dd531",
   "metadata": {},
   "outputs": [],
   "source": [
    "ToMol(\"Fc^cF\")"
   ]
  },
  {
   "cell_type": "code",
   "execution_count": null,
   "id": "bc020142",
   "metadata": {},
   "outputs": [],
   "source": [
    "# a complex molecule\n",
    "taxol = MolFromSmiles(\n",
    "    \"CC1=C2[C@@]([C@]([C@H]([C@@H]3[C@]4([C@H](OC4)C[C@@H]([C@]3(C(=O)[C@@H]2OC(=O)C)C)O)OC(=O)C)OC(=O)c5ccccc5)(C[C@@H]1OC(=O)[C@H](O)[C@@H](NC(=O)c6ccccc6)c7ccccc7)O)(C)C\"\n",
    ")\n",
    "s = FromMol(taxol)\n",
    "print(s)\n",
    "ToMol(s)"
   ]
  }
 ],
 "metadata": {
  "kernelspec": {
   "display_name": "Python 3 (ipykernel)",
   "language": "python",
   "name": "python3"
  },
  "language_info": {
   "codemirror_mode": {
    "name": "ipython",
    "version": 3
   },
   "file_extension": ".py",
   "mimetype": "text/x-python",
   "name": "python",
   "nbconvert_exporter": "python",
   "pygments_lexer": "ipython3",
   "version": "3.7.10"
  }
 },
 "nbformat": 4,
 "nbformat_minor": 5
}
